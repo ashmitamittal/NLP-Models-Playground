{
  "nbformat": 4,
  "nbformat_minor": 0,
  "metadata": {
    "colab": {
      "provenance": [],
      "authorship_tag": "ABX9TyM37QvkkQ0WueDv1yKiekGD"
    },
    "kernelspec": {
      "name": "python3",
      "display_name": "Python 3"
    },
    "language_info": {
      "name": "python"
    }
  },
  "cells": [
    {
      "cell_type": "markdown",
      "source": [
        "# Claude-Anthropic with Conversation Chain\n",
        "\n",
        "This document provides an overview of the `ClaudeSession` Python class designed for conversational interactions using Amazon Bedrock's Claude model and LangChain's ConversationChain.\n",
        "\n",
        "## Overview\n",
        "\n",
        "The `ClaudeSession` class facilitates a session-based conversation with Claude, a language model provided by Amazon Bedrock. It leverages LangChain's `ConversationChain` and `ConversationBufferMemory` to maintain context throughout the conversation, allowing for more natural and coherent dialogue."
      ],
      "metadata": {
        "id": "DvBt3yS7ai9j"
      }
    },
    {
      "cell_type": "code",
      "execution_count": null,
      "metadata": {
        "id": "rBOxgpnjW6j_"
      },
      "outputs": [],
      "source": [
        "!pip install boto3 langchain\n"
      ]
    },
    {
      "cell_type": "markdown",
      "source": [
        "# Creating Claude Session\n",
        "\n",
        "The `ask_question` method allows users to send questions to the model. The first call to this method sets the context for the conversation, and subsequent calls build upon this context:"
      ],
      "metadata": {
        "id": "w4hnU9z9ZvN0"
      }
    },
    {
      "cell_type": "code",
      "source": [
        "import json\n",
        "import os\n",
        "import sys\n",
        "import boto3\n",
        "from langchain.llms import Bedrock\n",
        "\n",
        "\n",
        "os.environ[\"AWS_ACCESS_KEY_ID\"]=\"access_key_id_here\"\n",
        "os.environ[\"AWS_SECRET_ACCESS_KEY\"]=\"secret_access_key_here\""
      ],
      "metadata": {
        "id": "WNQmSOHD3riO"
      },
      "execution_count": null,
      "outputs": []
    },
    {
      "cell_type": "code",
      "source": [
        "from langchain.chains import ConversationChain\n",
        "from langchain.memory import ConversationBufferMemory\n",
        "\n",
        "class ClaudeSession:\n",
        "    def __init__(self):\n",
        "        boto3_bedrock = boto3.client(\n",
        "                        service_name=\"bedrock-runtime\",\n",
        "                        region_name=\"us-west-2\",\n",
        "                        aws_access_key_id=os.environ.get(\"AWS_ACCESS_KEY_ID\"),\n",
        "                        aws_secret_access_key=os.environ.get(\"AWS_SECRET_ACCESS_KEY\"),\n",
        "                    )\n",
        "        self.llm = Bedrock(model_id=\"anthropic.claude-v2\", client=boto3_bedrock)\n",
        "        self.conversation = ConversationChain(\n",
        "            llm=self.llm, verbose=True, memory=ConversationBufferMemory()\n",
        "        )\n",
        "\n",
        "    def ask_question(self, question):\n",
        "      return self.conversation.predict(input=question)\n"
      ],
      "metadata": {
        "id": "3sUwQ9cMXABI"
      },
      "execution_count": null,
      "outputs": []
    },
    {
      "cell_type": "markdown",
      "source": [
        "# Data import\n",
        "Currently I am using a json file for the import here to return the data"
      ],
      "metadata": {
        "id": "IxVASbvJaAH4"
      }
    },
    {
      "cell_type": "code",
      "source": [
        "import json\n",
        "\n",
        "def read_file():\n",
        "  file_path = \"evidenceText.json\"\n",
        "  try:\n",
        "      with open(file_path, 'r') as file:\n",
        "          data = json.load(file)\n",
        "          summaries = [item['summary'] for item in data if 'summary' in item]\n",
        "          evidences = [item['evidence'] for item in data if 'evidence' in item]\n",
        "          concatenated_summaries = \"; \".join(summaries)\n",
        "          concatenated_evidences = \"; \".join(evidences)\n",
        "          processed_data = {\n",
        "              'summary': concatenated_summaries,\n",
        "              'evidence': concatenated_evidences\n",
        "          }\n",
        "          return processed_data\n",
        "  except FileNotFoundError:\n",
        "      print(f\"The file at path {file_path} does not exist.\")\n",
        "  except json.JSONDecodeError:\n",
        "      print(f\"The file at path {file_path} is not a valid JSON file.\")\n",
        "\n",
        "data = read_file()\n"
      ],
      "metadata": {
        "id": "68MwjHM7Q73P"
      },
      "execution_count": null,
      "outputs": []
    },
    {
      "cell_type": "markdown",
      "source": [
        "# Asking questions"
      ],
      "metadata": {
        "id": "2-OslS0uaMQQ"
      }
    },
    {
      "cell_type": "code",
      "source": [
        "my_session = ClaudeSession()\n",
        "\n",
        "# Send the context in first\n",
        "initial_context_response = my_session.ask_question(f\"Here is a json file with the evidence information, I will be asking questions based on it \\\n",
        "                                                     in the next prompt(s): {data}\")\n",
        "\n",
        "# Ask questions based on conversation history\n",
        "answer1 = my_session.ask_question(\"What are the various city names?\")\n",
        "print(answer1)\n",
        "answer2 = my_session.ask_question(\"What tools are used?\")\n",
        "print(answer2)\n",
        "\n"
      ],
      "metadata": {
        "id": "T6vC-yo-Qd3R"
      },
      "execution_count": null,
      "outputs": []
    }
  ]
}